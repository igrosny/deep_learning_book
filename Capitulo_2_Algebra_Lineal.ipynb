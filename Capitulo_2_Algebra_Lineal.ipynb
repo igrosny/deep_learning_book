{
  "nbformat": 4,
  "nbformat_minor": 0,
  "metadata": {
    "colab": {
      "name": "Capitulo 2: Algebra Lineal",
      "version": "0.3.2",
      "provenance": [],
      "collapsed_sections": [],
      "include_colab_link": true
    },
    "kernelspec": {
      "name": "python3",
      "display_name": "Python 3"
    }
  },
  "cells": [
    {
      "cell_type": "markdown",
      "metadata": {
        "id": "view-in-github",
        "colab_type": "text"
      },
      "source": [
        "[View in Colaboratory](https://colab.research.google.com/github/igrosny/deep_learning_book/blob/master/Capitulo_2_Algebra_Lineal.ipynb)"
      ]
    },
    {
      "metadata": {
        "id": "BFSUKH5BYAzm",
        "colab_type": "text"
      },
      "cell_type": "markdown",
      "source": [
        "# 2 Algebra Lineal\n",
        "## 2.1 Escalares, Vectores , Matrices y Tensores\n",
        "\n",
        "**Escalar: ** Un escalar es solo un numero.\n",
        "\n",
        "**Vector: ** Es un arreglo de numeros. A continuacion muestro un vector columna\n",
        "\n",
        "$x = \\begin{bmatrix}x_{1} \\\\ x_{2} \\\\ \\vdots \\\\x_{m}\\end{bmatrix}$\n",
        "\n",
        "En el siguiente ejemplo lo vamos a representar en python\n",
        "\n",
        "$x = \\begin{bmatrix}2 \\\\ 3 \\\\ 7 \\\\8\\end{bmatrix}$"
      ]
    },
    {
      "metadata": {
        "id": "Cc9FisSVYxHx",
        "colab_type": "code",
        "colab": {
          "base_uri": "https://localhost:8080/",
          "height": 34
        },
        "outputId": "8b07c69b-5929-4ac6-b7eb-755ae8289419"
      },
      "cell_type": "code",
      "source": [
        "import numpy as np\n",
        "\n",
        "x = np.array([2,3,7,8])\n",
        "\n",
        "print(x)"
      ],
      "execution_count": 3,
      "outputs": [
        {
          "output_type": "stream",
          "text": [
            "[2 3 7 8]\n"
          ],
          "name": "stdout"
        }
      ]
    },
    {
      "metadata": {
        "id": "o6x-0AlXau4q",
        "colab_type": "text"
      },
      "cell_type": "markdown",
      "source": [
        "** Matrices: ** Es un arreglo de dos dimensiones donde cada elemento se puede identificar por dos indices. m: filas y n: columnas\n",
        "\n",
        "$\\begin{bmatrix}A_{1,1} & A_{1,2}\\\\ A_{2,1} & A_{2,2} \\end{bmatrix}$\n",
        "\n",
        "En el siguiente ejemplo voy a construir la siguiente matriz a python\n",
        "\n",
        "$\\begin{bmatrix}1 & 2\\\\3&4 \\end{bmatrix}$"
      ]
    },
    {
      "metadata": {
        "id": "1nPk4YZ_ceOa",
        "colab_type": "code",
        "colab": {
          "base_uri": "https://localhost:8080/",
          "height": 187
        },
        "outputId": "66165262-3a37-4f9f-e69b-ea60ac25e15b"
      },
      "cell_type": "code",
      "source": [
        "x = np.array([[1,2,6],[3,4,7],[0,5,9]])\n",
        "\n",
        "print(x)\n",
        "\n",
        "print(\"Imprimir primera fila: \\n\", x[0])\n",
        "print(\"Imprimir todo despues de la primer fila: \\n\", x[1:])\n",
        "print(\"Imprimir el elemento 2, 2: \\n\", x[1][1])"
      ],
      "execution_count": 14,
      "outputs": [
        {
          "output_type": "stream",
          "text": [
            "[[1 2 6]\n",
            " [3 4 7]\n",
            " [0 5 9]]\n",
            "Imprimir primera fila: \n",
            " [1 2 6]\n",
            "Imprimir todo despues de la primer fila: \n",
            " [[3 4 7]\n",
            " [0 5 9]]\n",
            "Imprimir el elemento 2, 2: \n",
            " 4\n"
          ],
          "name": "stdout"
        }
      ]
    },
    {
      "metadata": {
        "id": "yYArjQf7d-Al",
        "colab_type": "text"
      },
      "cell_type": "markdown",
      "source": [
        "La transpuesta de una matriz son todo los el"
      ]
    },
    {
      "metadata": {
        "id": "tyZRapeCeDbW",
        "colab_type": "code",
        "colab": {
          "base_uri": "https://localhost:8080/",
          "height": 68
        },
        "outputId": "0a212a91-a5f7-473e-cb77-8552d16b00fa"
      },
      "cell_type": "code",
      "source": [
        "x.T"
      ],
      "execution_count": 15,
      "outputs": [
        {
          "output_type": "execute_result",
          "data": {
            "text/plain": [
              "array([[1, 3, 0],\n",
              "       [2, 4, 5],\n",
              "       [6, 7, 9]])"
            ]
          },
          "metadata": {
            "tags": []
          },
          "execution_count": 15
        }
      ]
    }
  ]
}