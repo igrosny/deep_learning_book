{
  "nbformat": 4,
  "nbformat_minor": 0,
  "metadata": {
    "colab": {
      "name": "Capitulo 2: Algebra Lineal",
      "version": "0.3.2",
      "provenance": [],
      "collapsed_sections": [],
      "include_colab_link": true
    },
    "kernelspec": {
      "name": "python3",
      "display_name": "Python 3"
    }
  },
  "cells": [
    {
      "cell_type": "markdown",
      "metadata": {
        "id": "view-in-github",
        "colab_type": "text"
      },
      "source": [
        "[View in Colaboratory](https://colab.research.google.com/github/igrosny/deep_learning_book/blob/master/Capitulo_2_Algebra_Lineal.ipynb)"
      ]
    },
    {
      "metadata": {
        "id": "BFSUKH5BYAzm",
        "colab_type": "text"
      },
      "cell_type": "markdown",
      "source": [
        "# 2 Algebra Lineal\n",
        "## 2.1 Escalares, Vectores , Matrices y Tensores\n",
        "\n",
        "**Escalar: ** Un escalar es solo un numero.\n",
        "\n",
        "**Vector: ** Es un arreglo de numeros. A continuacion muestro un vector columna\n",
        "\n",
        "$x = \\begin{bmatrix}x_{1} \\\\ x_{2} \\\\ \\vdots \\\\x_{m}\\end{bmatrix}$\n",
        "\n",
        "En el siguiente ejemplo lo vamos a representar en python\n",
        "\n",
        "$x = \\begin{bmatrix}2 \\\\ 3 \\\\ 7 \\\\8\\end{bmatrix}$"
      ]
    },
    {
      "metadata": {
        "id": "Cc9FisSVYxHx",
        "colab_type": "code",
        "colab": {
          "base_uri": "https://localhost:8080/",
          "height": 34
        },
        "outputId": "2c381ed2-3f31-4f77-e6da-028effc24d09"
      },
      "cell_type": "code",
      "source": [
        "import numpy as np\n",
        "\n",
        "x = np.array([2,3,7,8])\n",
        "\n",
        "print(x)"
      ],
      "execution_count": 2,
      "outputs": [
        {
          "output_type": "stream",
          "text": [
            "[2 3 7 8]\n"
          ],
          "name": "stdout"
        }
      ]
    },
    {
      "metadata": {
        "id": "o6x-0AlXau4q",
        "colab_type": "text"
      },
      "cell_type": "markdown",
      "source": [
        "** Matrices: ** Es un arreglo de dos dimensiones donde cada elemento se puede identificar por dos indices. m: filas y n: columnas\n",
        "\n",
        "$\\begin{bmatrix}A_{1,1} & A_{1,2}\\\\ A_{2,1} & A_{2,2} \\end{bmatrix}$\n",
        "\n",
        "En el siguiente ejemplo voy a construir la siguiente matriz a python\n",
        "\n",
        "$\\begin{bmatrix}1 & 2\\\\3&4 \\end{bmatrix}$"
      ]
    },
    {
      "metadata": {
        "id": "1nPk4YZ_ceOa",
        "colab_type": "code",
        "colab": {
          "base_uri": "https://localhost:8080/",
          "height": 187
        },
        "outputId": "4c9f32a8-1b3b-4c7a-bcde-cd8c3c13a54e"
      },
      "cell_type": "code",
      "source": [
        "x = np.array([[1,2,6],[3,4,7],[0,5,9]])\n",
        "\n",
        "print(x)\n",
        "\n",
        "print(\"Imprimir primera fila: \\n\", x[0])\n",
        "print(\"Imprimir todo despues de la primer fila: \\n\", x[1:])\n",
        "print(\"Imprimir el elemento 2, 2: \\n\", x[1][1])"
      ],
      "execution_count": 3,
      "outputs": [
        {
          "output_type": "stream",
          "text": [
            "[[1 2 6]\n",
            " [3 4 7]\n",
            " [0 5 9]]\n",
            "Imprimir primera fila: \n",
            " [1 2 6]\n",
            "Imprimir todo despues de la primer fila: \n",
            " [[3 4 7]\n",
            " [0 5 9]]\n",
            "Imprimir el elemento 2, 2: \n",
            " 4\n"
          ],
          "name": "stdout"
        }
      ]
    },
    {
      "metadata": {
        "id": "yYArjQf7d-Al",
        "colab_type": "text"
      },
      "cell_type": "markdown",
      "source": [
        "La transpuesta de una matriz son todo los el"
      ]
    },
    {
      "metadata": {
        "id": "tyZRapeCeDbW",
        "colab_type": "code",
        "colab": {
          "base_uri": "https://localhost:8080/",
          "height": 68
        },
        "outputId": "99d58715-7fa5-4803-9402-1d4f5e477894"
      },
      "cell_type": "code",
      "source": [
        "x.T"
      ],
      "execution_count": 4,
      "outputs": [
        {
          "output_type": "execute_result",
          "data": {
            "text/plain": [
              "array([[1, 3, 0],\n",
              "       [2, 4, 5],\n",
              "       [6, 7, 9]])"
            ]
          },
          "metadata": {
            "tags": []
          },
          "execution_count": 4
        }
      ]
    },
    {
      "metadata": {
        "id": "DAO9YaIdLopa",
        "colab_type": "text"
      },
      "cell_type": "markdown",
      "source": [
        "## 2.2 Multiplicando matrices y vectores\n",
        "\n",
        "$C=AB$\n",
        "\n",
        "A tiene que ser m x n, B sera n x p y C va a quedar como m x p\n",
        "\n",
        "El producto entre dos matrices se define como:\n",
        "\n",
        "$C_{i,j} = \\sum_kA_{i,k}B_{k,j}$"
      ]
    },
    {
      "metadata": {
        "id": "Z8NiyXuyNN4o",
        "colab_type": "code",
        "colab": {
          "base_uri": "https://localhost:8080/",
          "height": 34
        },
        "outputId": "1a8b4153-1e55-4fca-e519-8ac9da8acc52"
      },
      "cell_type": "code",
      "source": [
        "a = [[1, 0], [0, 1]]\n",
        "b = [[4, 1], [2, 2]]\n",
        "\n",
        "# Estas son las dos formas de multiplicar entre matrices\n",
        "# np.dot(a,  b)\n",
        "np.matmul(b, [1,1])"
      ],
      "execution_count": 13,
      "outputs": [
        {
          "output_type": "execute_result",
          "data": {
            "text/plain": [
              "array([5, 4])"
            ]
          },
          "metadata": {
            "tags": []
          },
          "execution_count": 13
        }
      ]
    },
    {
      "metadata": {
        "id": "UksnLK8aPAbB",
        "colab_type": "text"
      },
      "cell_type": "markdown",
      "source": [
        "**Producto Hadamard** es el producto de los elementos individuales $C_{ij} = A_{ij}B_{ij}$"
      ]
    },
    {
      "metadata": {
        "id": "aiNO3mWJPftc",
        "colab_type": "code",
        "colab": {
          "base_uri": "https://localhost:8080/",
          "height": 51
        },
        "outputId": "33687757-8e1d-4a2a-bda8-13b787e3517a"
      },
      "cell_type": "code",
      "source": [
        "np.multiply(a,b)"
      ],
      "execution_count": 14,
      "outputs": [
        {
          "output_type": "execute_result",
          "data": {
            "text/plain": [
              "array([[4, 0],\n",
              "       [0, 2]])"
            ]
          },
          "metadata": {
            "tags": []
          },
          "execution_count": 14
        }
      ]
    },
    {
      "metadata": {
        "id": "vDmg1rFvP0XZ",
        "colab_type": "text"
      },
      "cell_type": "markdown",
      "source": [
        "Las propiedades del producto son:\n",
        "* Es distributivo $A(B+C) = AB+AC$\n",
        "* Es asociativo $A(BC) = (AB)C$\n",
        "* **NO** es conmutativo: $AB = BA$ No aplica en todos lo casos\n",
        "* La traspuesta de una matriz producto es: $(AB)^T = B^TA^T$\n"
      ]
    },
    {
      "metadata": {
        "id": "WlnqCryTSPFD",
        "colab_type": "text"
      },
      "cell_type": "markdown",
      "source": [
        "## 2.3 Matriz Identidad e Inversa\n",
        "\n",
        "La matriz identidad es una matriz que no cambia ningun vector cuando la multiplicamos por esa matriz\n",
        "\n",
        "$\\forall x \\in R^n, I_nx=x$\n",
        "\n",
        "Es un matriz con unos en la diagonal\n",
        "\n",
        "$\\begin{bmatrix}1&0&0\\\\0&1&0\\\\0&0&1\\end{bmatrix}$\n",
        "\n",
        "La matriz inversa es tal que multiplicada por la matriz original, te da la identidad\n",
        "\n",
        "$A^{-1}A=I_n$\n",
        "\n",
        "No siempre se puede encontrar la inversa de una matriz"
      ]
    },
    {
      "metadata": {
        "id": "a4wa-Up7bGj8",
        "colab_type": "code",
        "colab": {
          "base_uri": "https://localhost:8080/",
          "height": 68
        },
        "outputId": "7d592dea-b09f-44c2-cd1a-c0466afea488"
      },
      "cell_type": "code",
      "source": [
        "# Crea una matriz identidad de dim 3\n",
        "\n",
        "np.identity(3)"
      ],
      "execution_count": 15,
      "outputs": [
        {
          "output_type": "execute_result",
          "data": {
            "text/plain": [
              "array([[1., 0., 0.],\n",
              "       [0., 1., 0.],\n",
              "       [0., 0., 1.]])"
            ]
          },
          "metadata": {
            "tags": []
          },
          "execution_count": 15
        }
      ]
    },
    {
      "metadata": {
        "id": "Ph4HE8ylbjSQ",
        "colab_type": "code",
        "colab": {
          "base_uri": "https://localhost:8080/",
          "height": 51
        },
        "outputId": "6661c5b0-8f8e-468c-8fe6-ba565b1216b5"
      },
      "cell_type": "code",
      "source": [
        "# Calculas la inversa de una matriz (tiene que ser cuadrada)\n",
        "a = np.array([[1., 2.], [3., 4.]])\n",
        "\n",
        "np.linalg.inv(a)"
      ],
      "execution_count": 19,
      "outputs": [
        {
          "output_type": "execute_result",
          "data": {
            "text/plain": [
              "array([[-2. ,  1. ],\n",
              "       [ 1.5, -0.5]])"
            ]
          },
          "metadata": {
            "tags": []
          },
          "execution_count": 19
        }
      ]
    },
    {
      "metadata": {
        "id": "gSk6k0jicAdN",
        "colab_type": "text"
      },
      "cell_type": "markdown",
      "source": [
        "## 2.4 Dependencia Lineal y Sistema generador\n",
        "\n",
        "Un sistemas de ecuaciones $Ax = b$ puede tener solucion unica, no tener solucion o tener infinitas soluciones. Lo que no puede pasar es que tenga mas de una solucion pero menos de infinitas.\n",
        "\n",
        "**Span** de un conjunto de vectores es el conjunto de todos los puntos obtenidos por la combinacion lineal de los vectores originales. (Ej: span(a, b) = R2)\n",
        "\n",
        "$\\bar a=\\begin{bmatrix}1\\\\2\\end{bmatrix}$   $\\bar b=\\begin{bmatrix}0\\\\3\\end{bmatrix}$\n",
        "\n",
        "$c_1 \\bar a + c_2 \\bar b = \\bar c$\n",
        "\n",
        "$c_1 \\begin{bmatrix}1\\\\2\\end{bmatrix} + c_2 \\begin{bmatrix}0\\\\3\\end{bmatrix} = \\begin{bmatrix}x_1\\\\x_2\\end{bmatrix}$\n",
        "\n",
        "$1c_1 + 0c_2 = x_1$\n",
        "\n",
        "$2c_1 + 3c_2 = x_2$\n",
        "\n",
        "Resolvemos y queda:\n",
        "\n",
        "$c_1 = x_1$\n",
        "\n",
        "$c_2 = \\frac{1}{3}(x_2 - 2x_1)$\n",
        "\n",
        "Por eso decimos que esos vectores generan todo $R^2$\n"
      ]
    }
  ]
}